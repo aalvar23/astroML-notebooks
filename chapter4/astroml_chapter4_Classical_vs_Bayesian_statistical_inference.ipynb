{
 "cells": [
  {
   "cell_type": "markdown",
   "id": "a041c285",
   "metadata": {},
   "source": [
    "## Classical vs. Bayesian statistical inference\n",
    "\n",
    "\n",
    "### Classical or frequentist:\n",
    "\n",
    "- Probabilities refer to relative frequencies of events. They are objective properties of the real world.\n",
    "\n",
    "- Parameters (such as the fraction of coin flips, for a particular coin, that are heads) are fixed, unknown constants. Because they are not fluctuating, probability statements about parameters are meaningless.\n",
    "\n",
    "- Statistical procedures should have well-defined long-run frequency properties. For example, a 95% confidence interval should bracket the true value of the parameter with a limiting frequency of at least 95%.\n",
    "\n",
    "### Bayesian\n",
    "\n",
    "- Probability describes the degree of subjective belief, not the limiting frequency. Probability statements can be made about things other than data, including model parameters and models themselves.\n",
    "\n",
    "- Inferences about a parameter are made by producing its probability distribution — this distribution quantifies the uncertainty of our knowledge about that parameter. Various point estimates, such as expectation value, may then be readily extracted from this distribution.\n",
    "\n",
    "**Example**: \n",
    "\n",
    "> A frequentist and a Bayesian statistician gather to watch a man flip a coin. He asks both of them before flipping the coin, \"what is the probability of it landing on tails?\" Both answer 50%. He then flips the coin and catches it in his hand, not allowing either statistician to see. He asks again what the probability of it having landed on tails is. The Bayesian statistician states, \"well, obviously, for me, it's still 50%\". On the other hand, the frequentist exclaims, \"that's a silly question; there is no probability to it! Although I do not know the answer, the coin is either heads up or tails up right at this moment. The probability of it being tails up is either 100% or 0%.\"\n",
    "\n",
    "Note that both are equally concerned with uncertainties about estimates. The main difference is whether one is allowed or not to discuss the \"probability\" of some aspect of the fixed universe having a certain value (e.g., the coin being heads or tails after it has already landed.)"
   ]
  },
  {
   "cell_type": "markdown",
   "id": "96bce8ed",
   "metadata": {},
   "source": [
    "## Maximum likelihood estimation (MLE)\n",
    "\n",
    "### MLE approach\n",
    "\n",
    "1. **The model**: Define a model $M$, $p(D|M)$, which is a hypothesis about how the data is generated. The accuracy of the resulting inferences relies heavily on the quality of our hypothesis, or how well the model describes the actual data generation process. Models are denoted $M(\\boldsymbol{\\theta})$ where $\\boldsymbol{\\theta}$ is a set of model parameters.\n",
    "\n",
    "2. **Parameter estimates**: search for the best model parameters ($\\boldsymbol{\\theta}$) which *maximize* $p(D|M)$. From this, we obtain MLE *point estimates* $\\boldsymbol{\\theta^0}$ (i.e., we obtain k estimates, $\\boldsymbol{\\theta^0_p}, p = 1, . . . , k)$.\n",
    "\n",
    "3. **Confidence intervals**: Determine the confidence region for model parameters. Such a confidence estimate can be obtained analytically in MLE using mathematical derivations specific to the chosen model. It can also be done numerically for arbitrary models using general frequentist techniques.\n",
    "\n",
    "4. **Hypothesis testing**: Perform *hypothesis tests* as needed to make conclusions about models and point estimates.\n",
    "\n",
    "### The Likelihood Function\n",
    "\n",
    "Given a known or assumed behavior about how our data is generated (i.e., the distribution from which our sample was drawn), we can calculate the probability or likelihood of observing any given value. For example, assume that we draw our data {$x_i$} from a Gaussian parent distribution, then the likelihood of a given value $x_i$ is given by\n",
    "\n",
    "\n",
    "$$p(x|\\mu,\\sigma) = \\frac{1}{\\sigma\\sqrt{2\\pi}}\\text{exp}\\bigg(\\frac{-(x-\\mu)^2}{2\\sigma ^2}\\bigg).$$\n",
    "\n",
    "We assume $x_i ... x_n$ are independent and identically distributed random samples from a pmf or pdf (e.g., they would **not** be independent in the case of drawing from a small parent sample without replacement). This assumption allows us to define the likelihood of the entire data set, $L$ as the *product* of likelihoods for each particular value,\n",
    "\n",
    "$$L \\equiv p(\\{x_i\\}|M(\\boldsymbol{\\theta})) = \\prod \\limits_{i=1}^n p(x_i|M(\\boldsymbol{\\theta})),$$\n",
    "\n",
    "where $M$ is the model, $\\boldsymbol{\\theta}$ are the unknown parameters, and $x_i ... x_n$ are the data samples. $\\boldsymbol{\\theta}$ is a vector with components $\\theta_p$ for $p = 1 ... k$. Note that instead of the specific one-dimensional set {$x_i$}, we often use $D$ for data in general cases. Additionally, since the product of likelihoods is no longer normalized to 1, we often use $L$'s logarithm as it can take on extremely small values when a data set is large.\n",
    "\n",
    "If this is still unclear, $L$ is just the joint probability of obtaining the entire data set; recall that for independent events, the joint probability is simply the product of individual probabilities -- i.e., $p(A)p(B)$. \n",
    "\n",
    "$L$ can be considered both as a function of the data and as a function of the model. When computing the likelihood of some data value $x$, $L$ is a function of $x$ for some fixed model parameters. Given some fixed data set, it can be considered as a function of the model parameters instead. These parameters can then be varied to maximize the likelihood of observing this specific data set, as described next.\n",
    "\n",
    "### MLE applied to homoscedastic Gaussian likelihood\n",
    "\n",
    "**Example**: Assume we want to measure the apparent magnitude (brightness from Earth) of a non-variable star a fixed distance away from Earth. We have a series of measurements $\\{x_i\\}$. Our goal is to find the maximum likelihood estimate for the star's apparent magnitude and its confidence interval.\n",
    "\n",
    "##### MLE approach for our problem\n",
    "\n",
    "**1.** We determine a hypothesis (model) where \n",
    "- The observed star does not move nor fluctuate in brightness \n",
    "    \n",
    "- The measurement errors are known to be Gaussian, and all the measurements have the same known error $\\sigma$ (homoscedastic). \n",
    "\n",
    "**2.** We derive the expression for the likelihood of there being a star of a particular magnitude that gives rise to our individual measurements. We find the value of $\\mu$ for which our observations are maximally likely (maximize the likelihood function).\n",
    "\n",
    "**3.** We determine the error bars (confidence intervals) on our measurement. \n",
    "\n",
    "**4.** We test whether what we've observed is consistent with our adopted model. For example, is it possible that the star was really a misidentified variable star that fluctuates in brightness?\n",
    "\n",
    "##### The Probability of Obtaining a Particular Measurement\n",
    "\n",
    "As our measurement errors are Gaussian, the probability density of each measurement is given by:\n",
    "\n",
    "$$ p(x| M(\\boldsymbol{\\theta})) = p(x|\\mu,\\sigma) = \\frac{1}{\\sqrt{2\\pi}\\sigma} \\exp \\bigg(\\frac{-(x_i-\\mu)^2}{2\\sigma^2}\\bigg) $$\n",
    "\n",
    "##### The Probability of the Dataset\n",
    "\n",
    "If we want to know the joint probability of obtaining that entire set, we compute the product of all the individual probabilities:\n",
    "\n",
    "$$ \\qquad\\qquad L \\equiv p(\\{x_i\\}|\\mu,\\sigma) = \\prod_{i=1}^N \\frac{1}{\\sqrt{2\\pi}\\sigma} \\exp \\bigg(\\frac{-(x_i-\\mu)^2}{2\\sigma^2}\\bigg)\\qquad\\qquad (1)$$\n",
    "\n",
    "Here there is only one model parameter, that is, $k = 1$ and $\\theta_p = \\mu$ (recall that all the measurements have the same known error $\\sigma$). Now we can find the maximum likelihood estimate, $\\mu_0$, as the value of $\\mu$ that maximizes $L$, as follows.\n",
    "\n",
    "##### Maximizing L\n",
    "\n",
    "The log-likelihood function is defined by $\\ln L \\equiv \\ln[L(\\boldsymbol\\theta)]$. Its maximum occurs at the same place as that of the likelihood function, and the same is true of the likelihood function times any constant. The value of the model parameter $\\mu$ that maximizes $\\ln L$ can be determined using the condition\n",
    "\n",
    "$$ \\frac{d\\ln L(\\mu)}{d\\mu}\\bigg|_{\\mu^0} \\equiv 0,$$\n",
    "\n",
    "which is the location where the first derivative of L is zero. It might be helpful to know that we can write the product of the exponentials as the exponential of the sum of the arguments,\n",
    "\n",
    "$$ L = \\bigg(\\prod_{i=1}^n \\frac{1}{\\sigma\\sqrt{2\\pi}}\\bigg)\\exp\\bigg(-\\frac{1}{2}\\sum\\bigg[\\frac{(x_i -\\mu)}{\\sigma}\\bigg]^2\\bigg). $$\n",
    "\n",
    "Taking the natural log of $L$ yields\n",
    "$$\\ln L(\\mu) = \\text{constant} - \\sum_{i=1}^N \\frac{(x_i - \\mu)^2}{2\\sigma^2}, $$\n",
    "\n",
    "\n",
    "and taking of derivative with respect to $\\mu$ gives\n",
    "\n",
    "$$\\sum_{i=1}^N \\frac{x_i-\\mu^0}{\\sigma^2} = 0. $$\n",
    "\n",
    "Now we can ignore $\\sigma$ since it's constant and algebraically solve for $\\mu$,\n",
    "\n",
    "$$\\sum_{i=1}^N x_i - \\sum^N_{i=1} \\mu^0 = 0 $$\n",
    "\n",
    "$$\\sum_{i=1}^N x_i = N\\mu^0 $$\n",
    "\n",
    "$$\\mu^0 =\\frac{1}{N}\\sum_{i=1}^N x_i  = \\overline{x} $$\n",
    "\n",
    "Thus $\\mu^0$ is simply the arithmetic mean of all measurements!\n",
    "\n",
    "##### Plotting our dataset and L\n",
    "\n",
    "We have 120 measurements for the apparent magnitude of our star drawn from a Gaussian distribution with $\\mu = 8$ (mean apparent magnitude) and $\\sigma = 2$ (the error in our measurements). In the figure on the left, we will plot the histogram of our measurements along with the true parent distribution plotted over top of it. In the figure on the right, we will calculate $L$ using equation (1), varying the value of $\\mu$ from 0 to 16."
   ]
  },
  {
   "cell_type": "code",
   "execution_count": 1,
   "id": "0f8df55d",
   "metadata": {},
   "outputs": [
    {
     "name": "stdout",
     "output_type": "stream",
     "text": [
      "Mean of our dataset: 7.8\n",
      "The value of mu that maximizes L: 7.8\n"
     ]
    },
    {
     "data": {
      "image/png": "[encoded data removed]",
      "text/plain": [
       "<Figure size 1008x432 with 2 Axes>"
      ]
     },
     "metadata": {
      "needs_background": "light"
     },
     "output_type": "display_data"
    }
   ],
   "source": [
    "import numpy as np\n",
    "from scipy.stats import norm\n",
    "from matplotlib import pyplot as plt\n",
    "\n",
    "np.random.seed(seed=42)\n",
    "Nsamples= 120\n",
    "mu_true = 8\n",
    "x = np.linspace(0, 16, 1000)\n",
    "\n",
    "# draw 120 pints from a Gaussian with mu = 8 and sigma = 2\n",
    "measurements = np.random.normal(mu_true, 2, Nsamples)\n",
    "\n",
    "# caluclate L for 1000 possible values of mu from 0 to 16\n",
    "products = []\n",
    "for i in x:\n",
    "    j = np.prod(norm(measurements, 2).pdf(i))\n",
    "    products.append(j)\n",
    "\n",
    "# plot the results\n",
    "fig, ax = plt.subplots(1,2)                \n",
    "fig.set_size_inches(14,6)   \n",
    "\n",
    "ax[0].hist(measurements, bins='fd', density = True);\n",
    "ax[0].plot(x, norm(8, 2).pdf(x));\n",
    "ax[0].set_xlabel('$x$',fontsize = 14)\n",
    "ax[0].set_ylabel('frequency',fontsize = 14)\n",
    "ax[0].set_xlim(0, 16)\n",
    "ax[0].set_xticks(np.arange(0,16,2))\n",
    "\n",
    "ax[1].plot(x,products)\n",
    "ax[1].set_xlim(0, 16)\n",
    "ax[1].set_ylim(0, 8*10**(-107))\n",
    "ax[1].set_xticks(np.arange(0,16, 2))\n",
    "ax[1].set_xlabel('$\\mu$', fontsize = 14)\n",
    "ax[1].set_ylabel(r'$L(\\mu)$',fontsize = 14);\n",
    "\n",
    "\n",
    "print(f\"\"\"Mean of our dataset: {np.mean(measurements):.2}\n",
    "The value of mu that maximizes L: {x[products.index(max(products))]:.2}\"\"\")"
   ]
  },
  {
   "cell_type": "markdown",
   "id": "5c1ce50f",
   "metadata": {},
   "source": [
    "As we expect, the value of $\\mu$ which maximizes $L$ is the average of our measurements!"
   ]
  },
  {
   "cell_type": "markdown",
   "id": "a2097468",
   "metadata": {},
   "source": [
    "## Properties of maximum likelihood estimators\n",
    "\n",
    "Maximum likelihood estimators have several optimality properties under certain assumptions. The critical assumption is that the data truly come from the specified model class (e.g., they really are drawn from a Gaussian, if that is the model used). Additional assumptions include some relatively mild regularity conditions, which amount to various smoothness conditions, certain derivatives existing, etc.\n",
    "\n",
    "Maximum likelihood estimators have the following properties:\n",
    "\n",
    "- They are **consistent estimators**; that is, they can be proven to converge to the true parameter value as the number of data points increases.\n",
    "\n",
    "- They are **asymptotically normal estimators**. The distribution of the parameter estimate, as the number of data points increases to infinity, approaches a normal distribution centered at the MLE, with a certain spread. This spread can often be easily calculated and used as a confidence band around the estimate, as discussed below.\n",
    "\n",
    "- They **asymptotically achieve the theoretical minimum possible variance, called the Cramér – Rao bound**. In other words, they achieve the best possible error given the data at hand; that is, no other estimator can do better in terms of efficiently using each data point to reduce the total error of the estimate ($\\text{MSE} = V + \\text{bias}^2$)."
   ]
  },
  {
   "cell_type": "markdown",
   "id": "93892dde",
   "metadata": {},
   "source": [
    "### MLE confidence intervals\n",
    "\n",
    "To determine the uncertainty of an MLE, we can take the second partial derivative of its natural log with respect to the parameter(s) in question\n",
    "\n",
    "$$ \\qquad\\qquad\\qquad F_{jk} = -\\frac{d^2 \\ln{L}}{d\\theta_j d\\theta_k}\\bigg|_{\\theta = \\theta_0}\\qquad\\qquad\\qquad\\qquad (2) $$\n",
    "\n",
    "These uncertainties form a covariance matrix $\\Sigma$,\n",
    "\n",
    "$$\\Sigma_{jk} = [F^{-1}]_{jk},$$\n",
    "\n",
    "where \n",
    "\n",
    "$$\\sigma_{j} = \\sqrt{\\Sigma_{jj}}.$$\n",
    "\n",
    "\n",
    "The diagonal elements, $\\Sigma_{ii}$, correspond to marginal error bars for parameters $\\theta_i$. If $\\Sigma_{jk}$ = 0 for $j\\neq k$, then the estimated values of parameters are uncorrelated (i.e., the error in one parameter does not affect other parameters)\n",
    "\n",
    "If $\\Sigma_{jk} \\neq 0$ when $j \\neq k$, errors for parameters $\\theta_j$ and $\\theta_k$ are correlated (e.g., in the two-dimensional case, the likelihood surface is a bivariate Gaussian with principal axes that are not aligned with coordinate axes). This correlation tells us that some combinations of parameters are better determined than others.\n",
    "\n",
    "In our example where we had homoscedastic errors from a Gaussian distribution, the uncertainty of the mean $\\mu$ is\n",
    "\n",
    "$$\\sigma_\\mu = \\bigg(-\\frac{d^2\\ln L(\\mu)}{d\\mu^2}\\bigg|_{\\mu^0}\\bigg) ^{-1/2} = \\bigg(\\sum^N_{i=1}\\frac{1}{\\sigma_i^2}\\bigg)^{-1/2} = \\frac{\\sigma}{\\sqrt{N}} $$\n",
    "\n",
    "since $\\sigma$ was constant. Note that this is the same equation for the standard error of the mean."
   ]
  },
  {
   "cell_type": "markdown",
   "id": "c41e1aa0",
   "metadata": {},
   "source": [
    "## The MLE applied to a heteroscedastic Gaussian likelihood\n",
    "\n",
    "With heteroscedastic errors, the uncertainty for each measurement varies, but the values for $\\sigma$ are still known. Perhaps the light of the moon or inconsistent weather were affecting our measurements. Everything else is the same (i.e, the measurements still come from a Gaussian) but since $\\sigma$ is no longer constant, the expression for the log-likelihood becomes\n",
    "\n",
    "$$\\ln L = \\text{constant} - \\sum_{i=1}^N \\frac{(x_i - \\mu)^2}{2\\sigma_i^2}. $$\n",
    "\n",
    "Taking the derivative, we get \n",
    "\n",
    "$$ \\frac{d\\ln L(\\mu)}{d\\mu}\\bigg|_{\\mu^0} = \\sum_{i=1}^N \\frac{(x_i - \\mu^0)}{\\sigma_i^2} = 0.$$\n",
    "\n",
    "Now we can algebraically solve for $\\mu^0$\n",
    "\n",
    "$$\\sum_{i=1}^N \\frac{x_i}{\\sigma_i^2} = \\sum_{i=1}^N \\frac{\\mu^0}{\\sigma_i^2},$$\n",
    "\n",
    "and to simplify our expression, we can set the weights $\\sigma_i^{-2}$ to $w_i$\n",
    "\n",
    "$$\\mu^0 = \\frac{\\sum_{i=1}^N \\frac{x_i}{\\sigma_i^2}}{\\sum_{i=1}^N \\frac{1}{\\sigma_i^2}} = \\frac{\\sum^N_i w_ix_i}{\\sum_i^N w_i}. $$\n",
    "\n",
    "Thus, $\\mu^0$ is simply a weighted arithmetic mean of all measurements. We can also calculate the uncertainty of $\\mu^0$ using eq $(2)$ above.\n",
    "\n",
    "$$\\sigma_\\mu = \\bigg(-\\frac{d^2\\ln L(\\mu)}{d\\mu^2}\\bigg|_{\\mu^0}\\bigg) ^{-1/2}  = \\bigg(\\sum^N_{i=1}\\frac{1}{\\sigma_i^2}\\bigg)^{-1/2} = \\bigg(\\sum^N_i w_i\\bigg)^{-1/2} $$\n"
   ]
  },
  {
   "cell_type": "markdown",
   "id": "770640c2",
   "metadata": {},
   "source": [
    "### The MLE in the case of truncated and censored data\n",
    "\n",
    "The probability of drawing a measurement $x$ is quantified using the selection probability, or selection function, $S(x)$. When $S(x)=0$ for $x > x_{\\text{max}}$ (analogously for $x < x_\\text{min}$), the data set is **truncated** and we know nothing about sources with $x > _{\\text{max}}$ (not even whether they exist or not). A related but different concept is censored data sets, where a measurement of an existing source was attempted, but the value is outside of some known interval (a familiar astronomical case is an “upper limit” for flux measurement when we look for, e.g., an X-ray source in an optical image of the same region on the sky but do not find it).\n",
    "\n",
    "Looking back at our Gaussian example, we will now show how to account for data truncation using the MLE approach. For simplicity, we will assume that the selection function $S(x)=1$ for $x_\\text{min} \\leq x \\leq x_{\\text{max}} $ and $S(x)=0$ otherwise.\n",
    "\n",
    "\n",
    "When dealing with truncated data, it's essential that the likelihood for a single datum is a properly normalized pdf; this is accounted for with a renormalization constant. In the case of a Gaussian error distribution (we assume that $\\sigma$ is known), the likelihood for a single data point is\n",
    "\n",
    "$$ p(x_i|\\mu,\\sigma,x_{\\text{min}},x_{\\text{max}}) = C(\\mu,\\sigma, x_{\\text{min}},x_{\\text{max}}) \\frac{1}{\\sqrt{2\\pi}\\sigma} \\exp \\bigg(\\frac{-(x_i-\\mu)^2}{2\\sigma^2}\\bigg)$$\n",
    "\n",
    "where the renormalization constant is evaluated as\n",
    "\n",
    "$$ C(\\mu,\\sigma,x_{\\text{min}},x_{\\text{max}}) = (P(x_{\\text{max}}|\\mu, \\sigma) - P(x_{\\text{min}}|\\mu,\\sigma))^{-1} $$\n",
    "\n",
    "with the cumulative distribution function (cdf) for a Gaussian centered at $\\mu$ with a standard deviation $\\sigma$ (see equation 3.47 in the textbook).\n",
    "\n",
    "The log-likelihood is\n",
    "\n",
    "$$ \\quad \\ln L(\\mu) = \\text{constant} - \\sum^N_{i=1} \\frac{(x_i-\\mu)^2}{2\\sigma^2} + N \\ln [C(\\mu,\\sigma, x_{\\text{min}},x_{\\text{max}})].\\quad (3) $$\n",
    "\n",
    "\n",
    "This is very close to the equation we had before; the difference is in our third term which accounts for truncation. Note that because the cdf contains the Gauss error function, there isn't a simple close-form expression for $\\mu^0$.\n",
    "\n",
    "**EXAMPLE**\n",
    "\n",
    "On the planet of Caladan, meteorites frequently hit the surface. Suppose some collectors are creating a museum of large meteorites, which they've defined as any meteorite larger than 45 meters in diameter. Before they get entered into the museum, they are held in a back room so a new exhibit can be set up. We also know that on this planet, meteorites are normally distributed, centered at 25 meters with a standard deviation of 13. If you were to enter the back room and find a meteorite of diameter $S_d$, what is your best estimate for the mean diameter of the meteorites that land on Caladan?\n",
    "\n",
    "We can answer this by finding the maximum of $\\ln{L}$ given by equation $(3)$, evaluated for $x_\\text{min}$ = 120, $x_\\text{max} = \\infty $, $N$ = 1, $x_1=S_d$, and $\\sigma$ = 13. Whether $\\mu^0$, the value of $\\mu$ which maximizes $L$, is larger or smaller than 25 depends on the exact value of $S_d$. \n",
    "\n",
    "First we will show that the mean value of a $N$(25,13) Gaussian truncated at $x_\\text{min}$ = 45 is ~50.75. For this, we will use `scipy.stats.truncnorm` which allows us to define the bounds of our truncated Gaussian."
   ]
  },
  {
   "cell_type": "code",
   "execution_count": 79,
   "id": "1cfc9d67",
   "metadata": {},
   "outputs": [
    {
     "name": "stdout",
     "output_type": "stream",
     "text": [
      "50.700310030581036\n"
     ]
    },
    {
     "data": {
      "image/png": "[encoded data removed]",
      "text/plain": [
       "<Figure size 864x540 with 1 Axes>"
      ]
     },
     "metadata": {
      "needs_background": "light"
     },
     "output_type": "display_data"
    }
   ],
   "source": [
    "# import numpy as np\n",
    "from scipy.optimize import minimize\n",
    "from scipy.stats import truncnorm\n",
    "from matplotlib import pyplot as plt\n",
    "\n",
    "fig, ax = plt.subplots(figsize=(12, 7.5))\n",
    "\n",
    "x = np.linspace(44, 75, 1000)\n",
    "mean = 25\n",
    "std = 13\n",
    "x_min = 45\n",
    "x_max = np.inf\n",
    "a, b = (x_min - mean) / std, (x_max - mean) / std\n",
    "r = truncnorm.rvs(a, b, loc = mean, scale = std, size=1000)\n",
    "plt.plot(x, truncnorm.pdf(x,a,b,loc = mean, scale = std));\n",
    "plt.hist(r, bins = 'fd', density = True);\n",
    "print(np.mean(r))"
   ]
  },
  {
   "cell_type": "markdown",
   "id": "8ebaf3f1",
   "metadata": {},
   "source": [
    "Next we need to maximize $L$. Taking the derivative of this function is quite difficult as we would need to take the partial derivative of the cumulative distribution function (which contains the Gauss error function) with respect to $\\mu$. We can avoid this by using `scipy.optimize.minimize` on the *negative* log likelihood function. First we will define the log likelihood function and allow it to take one to two arguments of $S_d$."
   ]
  },
  {
   "cell_type": "code",
   "execution_count": 84,
   "id": "3e09b7a2",
   "metadata": {},
   "outputs": [],
   "source": [
    "const = (-1/2)*(np.log(2*np.pi*(13**2)))\n",
    "\n",
    "def neg_log_likelihood(mu, x_1, x_2=0, n=1, sum_term_x2 = 0):\n",
    "    sum_term_x1 = ((x_1 - mu)**2)/(2*(13**2))\n",
    "    \n",
    "    if x_2 != 0:\n",
    "        sum_term_x2 = ((x_2 - mu)**2)/(2*(13**2))\n",
    "    \n",
    "    norm_constant = np.log((norm(mu,13).cdf(x_max) - (norm(mu,13).cdf(x_min)))**(-1))\n",
    "    logL = -(const - (sum_term_x1+sum_term_x2)+(n*norm_constant))\n",
    "    return logL"
   ]
  },
  {
   "cell_type": "markdown",
   "id": "5a12bb7a",
   "metadata": {},
   "source": [
    "Then we will minimize it (i.e., maximizing the *positive* log likelihood) with `scipy.optimize.minimize` which takes an initial guess for the value of $\\mu$ and our value(s) of $S_d$.\n",
    "\n",
    "What we'll see is that if $S_d$ is smaller than ~50.75, the implied mean diameter of the meteorites that land on the surface is less than 25 meters. Conversely, if $S_d$ is greater than ~50.75, then $\\mu^0$ is greater than 25. As an example, we will show the MLE given $S_d$ = 49 and $S_d$ = 52 with initial guesses for $\\mu^0$ equal to 15 and 52 respectively."
   ]
  },
  {
   "cell_type": "code",
   "execution_count": 99,
   "id": "e0ce90ce",
   "metadata": {},
   "outputs": [
    {
     "name": "stdout",
     "output_type": "stream",
     "text": [
      "Value of μ which maximizes lnL for:\n",
      "\n",
      "S_d = 49: 10.21\n",
      "S_d = 52: 32.85\n"
     ]
    }
   ],
   "source": [
    "print(f\"\"\"Value of μ which maximizes lnL for:\n",
    "\n",
    "S_d = 49: {minimize(neg_log_likelihood,15,args = (49)).get(\"x\")[0]:.4}\n",
    "S_d = 52: {minimize(neg_log_likelihood,30,args = (52)).get(\"x\")[0]:.4}\"\"\")"
   ]
  },
  {
   "cell_type": "markdown",
   "id": "0bc172c4",
   "metadata": {},
   "source": [
    "We can also look at the case given two meteorites $S_{d1}$ and $S_{d2}$ just to illustrate the point further. "
   ]
  },
  {
   "cell_type": "code",
   "execution_count": 103,
   "id": "43308d8a",
   "metadata": {},
   "outputs": [
    {
     "name": "stdout",
     "output_type": "stream",
     "text": [
      "Value of μ which maximizes] lnL for:\n",
      "    S_d = 49,50 (both meteorites with diameters below the mean): 15.72\n",
      "    S_d = 50,51 (one above the mean, one below the mean): 24.1\n",
      "    S_d = 52,53 (both meteorites with diameters above the mean): 35.15\n"
     ]
    }
   ],
   "source": [
    "print(f\"\"\"Value of μ which maximizes] lnL for:\n",
    "    S_d = 49,50 (both meteorites with diameters below the mean): {minimize(fun,15,args = (49,50,2)).get(\"x\")[0]:.4}\n",
    "    S_d = 50,51 (one above the mean, one below the mean): {minimize(fun,25,args = (50,51,2)).get(\"x\")[0]:.4}\n",
    "    S_d = 52,53 (both meteorites with diameters above the mean): {minimize(fun,30,args = (52,53,2)).get(\"x\")[0]:.4}\"\"\")"
   ]
  },
  {
   "cell_type": "markdown",
   "id": "c28f7109",
   "metadata": {},
   "source": [
    "For an arbitrary number of meteorites, their mean diameter must be greater than 50.75 to obtain $\\mu^0 > 25$. If all the meteorites in the back had a diameter of around 45 meters, bunched next to the selection threshold, it is likely that the mean diameter of meteorites that land is below 25 meters! Therefore, if you run into a large meteorite, do not automatically assume that all meteorites have large diameters on average because it could be due to selection effects."
   ]
  },
  {
   "cell_type": "code",
   "execution_count": null,
   "id": "975bc7c5",
   "metadata": {},
   "outputs": [],
   "source": []
  }
 ],
 "metadata": {
  "kernelspec": {
   "display_name": "Python 3 (ipykernel)",
   "language": "python",
   "name": "python3"
  },
  "language_info": {
   "codemirror_mode": {
    "name": "ipython",
    "version": 3
   },
   "file_extension": ".py",
   "mimetype": "text/x-python",
   "name": "python",
   "nbconvert_exporter": "python",
   "pygments_lexer": "ipython3",
   "version": "3.9.6"
  }
 },
 "nbformat": 4,
 "nbformat_minor": 5
}
