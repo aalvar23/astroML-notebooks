{
 "cells": [
  {
   "cell_type": "markdown",
   "id": "a041c285",
   "metadata": {},
   "source": [
    "## Classical or frequentist:\n",
    "\n",
    "- Probabilities refer to relative frequencies of events. They are objective properties of the real world.\n",
    "\n",
    "- Parameters (such as the fraction of coin flips, for a certain coin, that are heads) are fixed, unknown constants. Because they are not fluctuating, probability statements about parameters are meaningless.\n",
    "\n",
    "- Statistical procedures should have well-defined long-run frequency properties. For example, a 95% confidence interval should bracket the true value of the parameter with a limiting frequency of at least 95%.\n",
    "\n",
    "## Bayesian\n",
    "\n",
    "\n",
    "- Probability describes the degree of subjective belief, not the limiting frequency. Probability statements can be made about things other than data, including model parameters and models themselves.\n",
    "\n",
    "- Inferences about a parameter are made by producing its probability distribution — this distribution quantifies the uncertainty of our knowledge about that parameter. Various point estimates, such as expectation value, may then be readily extracted from this distribution.\n",
    "\n",
    "**Example**: A group of scientists have developed a serum that turns sunflowers into roses. They want to study the rate at which this process occurs. Of the 30 sunflowers, all are given the serum and only 24 show signs of changing into a rose.\n",
    "\n",
    "the success rate is thus 18/30 = 0.6\n",
    "\n",
    "Both deal with the uncertainty of estimates -- the biggest difference comes with whether or not we can say any aspect of our fixed universe has a set probability."
   ]
  },
  {
   "cell_type": "markdown",
   "id": "96bce8ed",
   "metadata": {},
   "source": [
    "## Maximum likelihood estimation (MLE)\n",
    "\n",
    "### MLE approach\n",
    "\n",
    "1. **The model**: Define a model $M$, $p(D|M)$, which is a hypothesis about how the data is generated. The accuracy of the resulting inferences rely heavily on the quality of our hypothesis, or how well the model describes the actual data generation process. Models are denoted $M(\\theta)$ where $\\theta$ is a set of model parameters.\n",
    "\n",
    "2. **Parameter estimates**: search for the best model parameters ($\\theta$) which *maximize* $p(D|M)$. From this, we obtain MLE *point estimates*\n",
    "\n",
    "3. **Confidence intervals**: Determine confidence region for model parameters\n",
    "\n",
    "4. **Hypothesis testing**: Perform *hypothesis test* as needed to make conclusions about models and point estimates.\n",
    "\n",
    "### Likelihood function\n",
    "\n",
    "Given a known or assumed behavior of the generation of our data (i.e. the distribution from which our sample was drawn), we can calculate the probability or likelihood of observing any given value. For example, assume that our data {$x_i$} are drawn from a Gaussian parent distribution, then the likelihood of a given value $x_i$ is given by\n",
    "\n",
    "\n",
    "$$p(x|\\mu,\\sigma) = \\frac{1}{\\sigma\\sqrt{2\\pi}}\\text{exp}\\bigg(\\frac{-(x-\\mu)^2}{2\\sigma ^2}\\bigg).$$\n",
    "\n",
    "We assume $x_i ... x_n$ are independent and identically distributed random samples from a pmf or pdf (e.g., they would **not** be independent in the case of drawing from a small parent sample without replacement). This assumption allows us to define the likelihood of the entire data set, $L$ as the *product* of likelihoods for each particular value,\n",
    "\n",
    "$$L \\equiv p(\\{x_i\\}|M(\\theta)) = \\prod \\limits_{i=1}^n p(x_i|M(\\theta)),$$\n",
    "\n",
    "where M is the model, $\\theta$ is the unknown parameter, $x_i ... x_n$ the random samples. Essentially, the likelihood function is the joint pdf or pmf of $x_i ... x_n$\n",
    "\n",
    "\n",
    "\n",
    "### applied to homoscedastic Gaussian likelihood\n",
    "### Properties of maximum likelihood estimators\n",
    "### confidence intervals\n",
    "### applied to heteroscedastic Gaussian likelihood\n",
    "### case of truncated or censored data\n",
    "### other cost functions and robustness"
   ]
  },
  {
   "cell_type": "markdown",
   "id": "7a43edea",
   "metadata": {},
   "source": [
    "## Goodness of fit and model selection\n",
    "### The goodness of fit for a model"
   ]
  },
  {
   "cell_type": "code",
   "execution_count": null,
   "id": "57155e6d",
   "metadata": {},
   "outputs": [],
   "source": []
  }
 ],
 "metadata": {
  "kernelspec": {
   "display_name": "Python 3 (ipykernel)",
   "language": "python",
   "name": "python3"
  },
  "language_info": {
   "codemirror_mode": {
    "name": "ipython",
    "version": 3
   },
   "file_extension": ".py",
   "mimetype": "text/x-python",
   "name": "python",
   "nbconvert_exporter": "python",
   "pygments_lexer": "ipython3",
   "version": "3.9.6"
  }
 },
 "nbformat": 4,
 "nbformat_minor": 5
}
