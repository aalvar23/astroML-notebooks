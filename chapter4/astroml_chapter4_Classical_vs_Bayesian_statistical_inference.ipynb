{
 "cells": [
  {
   "cell_type": "markdown",
   "id": "a041c285",
   "metadata": {},
   "source": [
    "## Classical vs. Bayesian statistical inference\n",
    "\n",
    "\n",
    "### Classical or frequentist:\n",
    "\n",
    "- Probabilities refer to relative frequencies of events. They are objective properties of the real world.\n",
    "\n",
    "- Parameters (such as the fraction of coin flips, for a certain coin, that are heads) are fixed, unknown constants. Because they are not fluctuating, probability statements about parameters are meaningless.\n",
    "\n",
    "- Statistical procedures should have well-defined long-run frequency properties. For example, a 95% confidence interval should bracket the true value of the parameter with a limiting frequency of at least 95%.\n",
    "\n",
    "### Bayesian\n",
    "\n",
    "\n",
    "- Probability describes the degree of subjective belief, not the limiting frequency. Probability statements can be made about things other than data, including model parameters and models themselves.\n",
    "\n",
    "- Inferences about a parameter are made by producing its probability distribution — this distribution quantifies the uncertainty of our knowledge about that parameter. Various point estimates, such as expectation value, may then be readily extracted from this distribution.\n",
    "\n",
    "**Example**: A group of scientists have developed a serum that turns sunflowers into roses. They want to study the rate at which this process occurs. Of the 30 sunflowers, all are given the serum and only 24 show signs of changing into a rose.\n",
    "\n",
    "the success rate is thus 18/30 = 0.6\n",
    "\n",
    "Both deal with the uncertainty of estimates -- the biggest difference comes with whether or not we can say any aspect of our fixed universe has a set probability."
   ]
  },
  {
   "cell_type": "markdown",
   "id": "96bce8ed",
   "metadata": {},
   "source": [
    "# Maximum likelihood estimation (MLE)\n",
    "\n",
    "## MLE approach\n",
    "\n",
    "1. **The model**: Define a model $M$, $p(D|M)$, which is a hypothesis about how the data is generated. The accuracy of the resulting inferences rely heavily on the quality of our hypothesis, or how well the model describes the actual data generation process. Models are denoted $M(\\boldsymbol{\\theta})$ where $\\boldsymbol{\\theta}$ is a set of model parameters.\n",
    "\n",
    "2. **Parameter estimates**: search for the best model parameters ($\\boldsymbol{\\theta}$) which *maximize* $p(D|M)$. From this, we obtain MLE *point estimates* $\\boldsymbol{\\theta^0}$ (i.e., we obtain k estimates, $\\boldsymbol{\\theta^0_p}, p = 1, . . . , k)$.\n",
    "\n",
    "3. **Confidence intervals**: Determine confidence region for model parameters. Such a confidence estimate can be obtained analytically in MLE by doing mathematical derivations specific to the model chosen, but can also be done numerically for arbitrary models using general frequentist techniques.\n",
    "\n",
    "4. **Hypothesis testing**: Perform *hypothesis test* as needed to make conclusions about models and point estimates.\n",
    "\n",
    "## The Likelihood Function\n",
    "\n",
    "Given a known or assumed behavior of the generation of our data (i.e. the distribution from which our sample was drawn), we can calculate the probability or likelihood of observing any given value. For example, assume that our data {$x_i$} are drawn from a Gaussian parent distribution, then the likelihood of a given value $x_i$ is given by\n",
    "\n",
    "\n",
    "$$p(x|\\mu,\\sigma) = \\frac{1}{\\sigma\\sqrt{2\\pi}}\\text{exp}\\bigg(\\frac{-(x-\\mu)^2}{2\\sigma ^2}\\bigg).$$\n",
    "\n",
    "We assume $x_i ... x_n$ are independent and identically distributed random samples from a pmf or pdf (e.g., they would **not** be independent in the case of drawing from a small parent sample without replacement). This assumption allows us to define the likelihood of the entire data set, $L$ as the *product* of likelihoods for each particular value,\n",
    "\n",
    "$$L \\equiv p(\\{x_i\\}|M(\\boldsymbol{\\theta})) = \\prod \\limits_{i=1}^n p(x_i|M(\\boldsymbol{\\theta})),$$\n",
    "\n",
    "where $M$ is the model, $\\boldsymbol{\\theta}$ are the unknown parameters, and $x_i ... x_n$ are the data samples. $\\boldsymbol{\\theta}$ is a vector with components $\\theta_p$ for $p = 1 ... k$. Note that instead of the specific one dimensional set {$x_i$}, we will often use $D$ for data in general cases. Additionally, since the product of likelihoods is no longer normalized to 1, we often use it's logarithm as $L$ can take on extremely small values when a data set is large.\n",
    "\n",
    "If this is still unclear, $L$ is just the joint probability of obtaining that entire set since for independent events, the joint probability is simply the product of individual probabilities -- i.e., $p(A)p(B)$. \n",
    "$L$ can be considered both as a function of the data and as a function of the model. When computing the likelihood of some data value $x$, $L$ is a function of $x$ for some fixed model parameters. Given some fixed data set, it can be considered as a function of the model parameters instead. These parameters can then be varied to maximize the likelihood of observing this specific data set, as described next.\n",
    "\n",
    "## MLE applied to homoscedastic Gaussian likelihood\n",
    "\n",
    "**Example**: Assume we want to measure the brightness of a non-variable star a fixed distance away from Earth. We have a series of measurements $\\{x_i\\}$. Our goal is to find the maximum likelihood estimate for the brightness of the star and it's confidence interval.\n",
    "\n",
    "##### MLE approach for our problem\n",
    "\n",
    "**1.** We determine a hypothesis (model) where \n",
    "- The observed star does not move nor fluctuate in brightness \n",
    "    \n",
    "- The measurement errors are known be Gaussian and in this case, we will assume all the measurements have the same known error $\\sigma$ (homoscedastic). \n",
    "\n",
    "**2.** We derive the expression for the likelihood of there being a star of a particular magnitude that gives rise to our individual measurements. We find the value of for which our observations are maximally likely (maximize the likelihood function).\n",
    "\n",
    "**3.** We determine the error bars (confidence intervals) on our measurement. \n",
    "\n",
    "**4.** We test whether what we've observed is consistent with our adopted model. For example, is it possible that the star was really a misidentified variable star that fluctuates in brightness?\n",
    "\n",
    "##### The Probability of Obtaining a Particular Measurement\n",
    "\n",
    "As our measurement errors are Gaussian, the probability density of each measurement (assuming the quasar's true location is , and the precision of our apparatus is ) is given by:\n",
    "\n",
    "$$ p(x| M(\\boldsymbol{\\theta})) = p(x|\\mu,\\sigma) = \\frac{1}{\\sqrt{2\\pi}\\sigma} \\exp \\bigg(\\frac{-(x_i-\\mu)^2}{2\\sigma^2}\\bigg) $$\n",
    "\n",
    "##### The Probability of the Dataset\n",
    "\n",
    "If we want to know the joint probability of obtaining that entire set, we compute the product of all the individual probabilities:\n",
    "\n",
    "$$ L \\equiv p(\\{x_i\\}|\\mu,\\sigma) = \\prod_{i=1}^N \\frac{1}{\\sqrt{2\\pi}\\sigma} \\exp \\bigg(\\frac{-(x_i-\\mu)^2}{2\\sigma^2}\\bigg) $$\n",
    "\n",
    "Here there is only one model parameter, that is, $k = 1$ and $\\theta_p = \\mu$. We can find the maximum likelihood estimate, $\\mu_0$, as the value of $\\mu$ that maximizes $L$, as follows.\n",
    "\n",
    "The log-likelihood function is defined by $\\ln L \\equiv \\ln[L(\\boldsymbol\\theta)]$. Its maximum occurs at the same place as that of the likelihood function, and the same is true of the likelihood function times any constant. The value of the model parameter $\\mu$ that maximizes $\\ln L$ can be determined using the condition\n",
    "\n",
    "$$ \\frac{d\\ln L(\\mu)}{d\\mu}\\bigg|_{\\mu^0} \\equiv 0$$\n",
    "\n",
    "It might be helpful to know that we can write the product of the exponentials as the exponential of the sum of the arguments,\n",
    "\n",
    "$$ L = \\bigg(\\prod_{i=1}^n \\frac{1}{\\sigma\\sqrt{2\\pi}}\\bigg)\\exp\\bigg(-\\frac{1}{2}\\sum\\bigg[\\frac{(x_i -\\mu)}{\\sigma}\\bigg]^2\\bigg). $$\n",
    "\n",
    "Taking the natural log of this yields\n",
    "\n",
    "$$\\ln L(\\mu) = \\text{constant} - \\sum_{i=1}^N \\frac{(x_i - \\mu)^2}{2\\sigma^2} $$\n",
    "\n",
    "and taking of derivative with respect to $\\mu$ gives\n",
    "\n",
    "$$\\sum_{i=1}^N \\frac{x_i-\\mu^0}{\\sigma^2} = 0. $$\n",
    "\n",
    "Since $\\sigma$ is constant,\n",
    "\n",
    "$$\\sum_{i=1}^N x_i - \\sum^N_{i=1} \\mu^0 = N \\mu^0 $$\n",
    "\n",
    "$$\\mu^0 =\\frac{1}{N}\\sum_{i=1}^N x_i  = \\overline{x} $$"
   ]
  },
  {
   "cell_type": "code",
   "execution_count": 97,
   "id": "23280c49",
   "metadata": {},
   "outputs": [
    {
     "data": {
      "text/plain": [
       "0.0"
      ]
     },
     "execution_count": 97,
     "metadata": {},
     "output_type": "execute_result"
    },
    {
     "data": {
      "image/png": "[encoded data removed]",
      "text/plain": [
       "<Figure size 864x540 with 1 Axes>"
      ]
     },
     "metadata": {
      "needs_background": "light"
     },
     "output_type": "display_data"
    }
   ],
   "source": [
    "import numpy as np\n",
    "from scipy.stats import norm\n",
    "from matplotlib import pyplot as plt\n",
    "\n",
    "from astroML.plotting import setup_text_plots\n",
    "setup_text_plots(fontsize=15, usetex=False)\n",
    "\n",
    "#------------------------------------------------------------\n",
    "np.random.seed(seed=42)\n",
    "Nsamples=500\n",
    "mu_true = 8\n",
    "measurements = np.random.normal(mu_true, 2, Nsamples)\n",
    "\n",
    "fig, ax = plt.subplots(figsize=(12, 7.5))\n",
    "ax.hist(measurements, bins='fd', density = True);\n",
    "\n",
    "x = np.linspace(1, 16, 1000)\n",
    "ax.plot(x, norm(8, 2).pdf(x))\n",
    "\n",
    "np.prod(norm(measurements, 2).pdf(8))"
   ]
  },
  {
   "cell_type": "markdown",
   "id": "a2097468",
   "metadata": {},
   "source": [
    "## Properties of maximum likelihood estimators\n",
    "\n",
    "Maximum likelihood estimators have several optimality properties, under certain assumptions. The critical assumption is that the data truly come from the specified model class (e.g., they really are drawn from a Gaussian, if that is the model used). Additional assumptions include some relatively mild regularity conditions, which amount to various smoothness conditions, certain derivatives existing, etc. (see Lup93 for detailed discussion).\n",
    "\n",
    "Maximum likelihood estimators have the following properties:\n",
    "\n",
    "- They are **consistent estimators**; that is, they can be proven to converge to the true parameter value as the number of data points increases.\n",
    "\n",
    "- They are **asymptotically normal estimators**. The distribution of the parameter estimate, as the number of data points increases to infinity, approaches a normal distribution, centered at the MLE, with a certain spread. This spread can often be easily calculated and used as a confidence band around the estimate, as discussed below (see eq. 4.8).\n",
    "\n",
    "- They **asymptotically achieve the theoretical minimum possible variance, called the Cram ́er – Rao bound**. In other words, they achieve the best possible error given the data at hand; that is, no other estimator can do better in terms of efficiently using each data point to reduce the total error of the estimate (see eq. 3.33).\n"
   ]
  },
  {
   "cell_type": "markdown",
   "id": "c41e1aa0",
   "metadata": {},
   "source": [
    "## The MLE applied to a heteroscedastic Gaussian likelihood\n",
    "\n",
    "The computation in the heteroscedastic case proceeds analogously to that in the homoscedastic case. The log-likelihood is\n",
    "\n",
    "$$\\ln L = \\text{constant} - \\sum_{i=1}^N \\frac{(x_i - \\mu)^2}{2\\sigma_i^2} $$\n",
    "\n",
    "$$\\mu^0 = \\frac{\\sum^N_i w_ix_i}{\\sum_i^N w_i} $$\n",
    "\n",
    "$$\\sigma_\\mu = \\bigg(\\sum^N_{i=1}\\frac{1}{\\sigma_i^2}\\bigg)^{-1/2} = \\bigg(\\sum^N_i w_i\\bigg)^{-1/2}$$"
   ]
  },
  {
   "cell_type": "markdown",
   "id": "770640c2",
   "metadata": {},
   "source": [
    "### confidence intervals\n",
    "\n",
    "$$\\sigma_{jk} = ([F^{-1}]_{jk})^{1/2} $$\n",
    "\n",
    "$$ F_{jk} = -\\frac{d^2 \\ln{L}}{d\\theta_k d\\theta_k}\\bigg|_{\\theta = \\theta_0} $$\n",
    "\n",
    "$$\\sigma_\\mu = \\bigg(-\\frac{d^2\\ln L(\\mu)}{d\\mu^2}\\bigg|_{\\mu^0}\\bigg) ^{-1/2} = \\frac{\\sigma}{\\sqrt{N}} $$\n",
    "\n",
    "### case of truncated or censored data\n",
    "\n",
    "$$ p(x_i|\\mu,\\sigma,x_{\\text{min}},x_{\\text{max}}) = C(\\mu, x_{\\text{min}},x_{\\text{max}}) \\frac{1}{\\sqrt{2\\pi}\\sigma} \\exp \\bigg(\\frac{-(x_i-\\mu)^2}{2\\sigma^2}\\bigg)$$\n",
    "\n",
    "$$ C(\\mu,\\sigma,x_{\\text{min}},x_{\\text{max}}) = (P(x_{\\text{max}}|\\mu, \\sigma) - P(x_{\\text{min}}|\\mu,\\sigma))^{-1} $$\n",
    "\n",
    "$$ \\ln L(\\mu) = \\text{constant} - \\sum^N_{i=1} \\frac{(x_i-\\mu)^2}{2\\sigma^2} + N \\ln [C(\\mu,\\sigma, x_{\\text{min}},x_{\\text{max}})] $$\n",
    "### other cost functions and robustness\n",
    "\n",
    "$$\\text{MISE} = \\int_{-\\infty}^{\\infty} [f(x) - h(x)]^2dx $$"
   ]
  },
  {
   "cell_type": "code",
   "execution_count": null,
   "id": "7986799e",
   "metadata": {},
   "outputs": [],
   "source": []
  }
 ],
 "metadata": {
  "kernelspec": {
   "display_name": "Python 3 (ipykernel)",
   "language": "python",
   "name": "python3"
  },
  "language_info": {
   "codemirror_mode": {
    "name": "ipython",
    "version": 3
   },
   "file_extension": ".py",
   "mimetype": "text/x-python",
   "name": "python",
   "nbconvert_exporter": "python",
   "pygments_lexer": "ipython3",
   "version": "3.9.6"
  }
 },
 "nbformat": 4,
 "nbformat_minor": 5
}
