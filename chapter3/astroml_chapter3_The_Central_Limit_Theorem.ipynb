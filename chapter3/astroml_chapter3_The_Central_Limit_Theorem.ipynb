{
 "cells": [
  {
   "cell_type": "markdown",
   "id": "3bafc97b",
   "metadata": {},
   "source": [
    "# The Central Limit Theorem"
   ]
  },
  {
   "cell_type": "markdown",
   "id": "bd06d02f",
   "metadata": {},
   "source": [
    "The central limit theorem provides the theoretical foundation for the practice of repeating measurements to improve the accuracy of the final result. Given an arbitrary distribution $h(x)$, characterized by its mean $\\mu$ and standard deviation $\\sigma$, the central limit theorem states that the mean of $N$ values $x_i$ drawn from that distribution will approximately follow a Gaussian distribution, with the approximation accuracy improving with increased $N$. The theorem also explains why most measurement errors follow a Gaussian distribution. If we take the error term as the sum of numerous individual error terms, then their sum is nicely approximated by a Gaussian distribution.\n",
    "\n",
    "Our constraints on $h(x)$ are essential for this theorem to work: it *must* have a standard deviation, and thus its tails must fall off faster than $1/x^2$ for large $x$. As more measurements are combined, the tails will be “clipped” and eventually (for large $N$), the distribution of the mean will approximately follow a Gaussian with mean $\\mu$ and standard deviation $\\sigma$ /$\\sqrt{N}$.\n",
    "\n",
    "In the following plots, we will show this to be true. First we will define $N$ and use `np.random.random` to generate 10 uniform distribtions (with $\\mu = 0.5$ and $W = 1$) that range from $(0,1)$ and have $10^6$ data points. Recall that a uniform distribution on $[0,1]$ has a standard deviation of $1/\\sqrt{12}$."
   ]
  },
  {
   "cell_type": "code",
   "execution_count": null,
   "id": "76ed9ea3",
   "metadata": {},
   "outputs": [],
   "source": [
    "import numpy as np\n",
    "from matplotlib import pyplot as plt\n",
    "from scipy.stats import norm, cauchy\n",
    "\n",
    "# Generate the uniform samples\n",
    "N = [2, 3, 10]\n",
    "\n",
    "np.random.seed(42)\n",
    "x = np.random.random((max(N), int(1E6)))\n",
    "print(x.shape)"
   ]
  },
  {
   "cell_type": "markdown",
   "id": "dbad06cd",
   "metadata": {},
   "source": [
    "Next, for each value of $N$, we will take the mean of $N$ of samples. After plotting the histogram of the distribution, we will then plot the expected Gaussian pdf over top of it with $\\mu = 0.5$ and $\\sigma_i = 1/\\sqrt{(12\\cdot N[i])}$. The Gaussian distribution is implemented in `scipy.stats.norm`, and `np.linspace` is used to create an evenly spaced sequence of numbers $\\text{x_pdf}$ to plot against."
   ]
  },
  {
   "cell_type": "code",
   "execution_count": null,
   "id": "3a52cb9e",
   "metadata": {},
   "outputs": [],
   "source": [
    "# Plot the results\n",
    "fig = plt.figure(figsize=(8, 8))\n",
    "fig.subplots_adjust(hspace=0.05)\n",
    "\n",
    "for i in range(len(N)):\n",
    "    ax = fig.add_subplot(3, 1, i + 1)\n",
    "\n",
    "    # take the mean of the first N[i] samples\n",
    "    x_i = x[:N[i], :].mean(0)\n",
    "\n",
    "    # histogram the data\n",
    "    ax.hist(x_i, bins=np.linspace(0, 1, 101),\n",
    "            histtype='stepfilled', alpha=0.5, density=True)\n",
    "\n",
    "    # plot the expected gaussian pdf\n",
    "    mu = 0.5\n",
    "    sigma = 1. / np.sqrt(12 * N[i])\n",
    "    dist = norm(mu, sigma)\n",
    "    x_pdf = np.linspace(-0.5, 1.5, 1000)\n",
    "    ax.plot(x_pdf, dist.pdf(x_pdf), '-k')\n",
    "\n",
    "    ax.set_xlim(0.0, 1.0)\n",
    "    ax.set_ylim(0.001, None)\n",
    "\n",
    "    ax.xaxis.set_major_locator(plt.MultipleLocator(0.2))\n",
    "    ax.yaxis.set_major_locator(plt.MaxNLocator(5))\n",
    "\n",
    "    ax.text(0.99, 0.95, r\"$N = %i$\" % N[i],\n",
    "            ha='right', va='top', transform=ax.transAxes)\n",
    "\n",
    "    if i == len(N) - 1:\n",
    "        ax.xaxis.set_major_formatter(plt.FormatStrFormatter('%.4f'))\n",
    "        ax.set_xlabel(r'$x$', fontsize = 12)\n",
    "    else:\n",
    "        ax.xaxis.set_major_formatter(plt.NullFormatter())\n",
    "\n",
    "    ax.set_ylabel('$p(x)$', fontsize = 12)\n",
    "\n",
    "plt.show()"
   ]
  },
  {
   "cell_type": "markdown",
   "id": "c567f5c9",
   "metadata": {},
   "source": [
    "The distribution for $N = 2$ has a triangular shape, and as $N$ increases, it becomes increasingly similar to a Gaussian. The predicted normal distribution with $\\mu = 0.5$ and $\\sigma = 1/ \\sqrt{12N}$ is shown by the line. Already for $N = 10$, the “observed” distribution is essentially the same as the predicted distribution. Thus, we can see that by increasing $N$, we get increasingly closer to a Gaussian distribution, which is in accordance with the central limit theorem.\n",
    "\n",
    "To reinforce that the Central Limit Theorem works for arbitrary distributions (as long as they have finite standard deviations), we'll sample a non-uniform distribution to show that the theorem still holds. In the example below, we'll demonstrate the theorem on a Laplace distribution --the method used is the same as above, but we'll draw our samples from `np.random.laplace`. The standard deviation for a Laplace distribution is $\\sqrt{2} \\cdot b$ where $b$ is the scale parameter. We'll set the scale parameter to $1/\\sqrt{12}$, which is the standard deviation of the uniform distribution we had above. By setting sigma for the normal distribution to $ 1/\\sqrt{(12*N[i]))}\\cdot\\sqrt{2}$, we'll get a distribution that becomes increasingly gaussian. Note that since this distribution is heavy-tailed, it will take more samples for the average to converge to a normal distribution. "
   ]
  },
  {
   "cell_type": "code",
   "execution_count": null,
   "id": "47d33d72",
   "metadata": {},
   "outputs": [],
   "source": [
    "# Generate the laplace samples\n",
    "N = [2, 10, 20]\n",
    "\n",
    "np.random.seed(42)\n",
    "x = np.random.laplace(0.5,(1/np.sqrt(12)),(max(N), int(1E6)))"
   ]
  },
  {
   "cell_type": "markdown",
   "id": "a4bfe6c2",
   "metadata": {},
   "source": [
    "Next, we plot the results."
   ]
  },
  {
   "cell_type": "code",
   "execution_count": null,
   "id": "62702e52",
   "metadata": {},
   "outputs": [],
   "source": [
    "# Plot the results\n",
    "fig = plt.figure(figsize=(8, 8))\n",
    "fig.subplots_adjust(hspace=0.05)\n",
    "\n",
    "for i in range(len(N)):\n",
    "    ax = fig.add_subplot(3, 1, i + 1)\n",
    "\n",
    "    # take the mean of the first N[i] samples\n",
    "    x_i = x[:N[i], :].mean(0)\n",
    "\n",
    "    # histogram the data\n",
    "    ax.hist(x_i, bins=np.linspace(0, 1, 101),\n",
    "            histtype='stepfilled', alpha=0.5, density=True)\n",
    "\n",
    "    # plot the expected gaussian pdf\n",
    "    mu = 0.5\n",
    "    sigma = (1/np.sqrt(12*N[i]))*np.sqrt(2)\n",
    "    dist = norm(mu, sigma)\n",
    "    x_pdf = np.linspace(-0.5, 1.5, 1000)\n",
    "    ax.plot(x_pdf, dist.pdf(x_pdf), '-k')\n",
    "\n",
    "    ax.set_xlim(0.0, 1.0)\n",
    "    ax.set_ylim(0.001, None)\n",
    "\n",
    "    ax.xaxis.set_major_locator(plt.MultipleLocator(0.2))\n",
    "    ax.yaxis.set_major_locator(plt.MaxNLocator(5))\n",
    "\n",
    "    ax.text(0.99, 0.95, r\"$N = %i$\" % N[i],\n",
    "            ha='right', va='top', transform=ax.transAxes)\n",
    "\n",
    "    if i == len(N) - 1:\n",
    "        ax.xaxis.set_major_formatter(plt.FormatStrFormatter('%.4f'))\n",
    "        ax.set_xlabel(r'$x$', fontsize = 12)\n",
    "    else:\n",
    "        ax.xaxis.set_major_formatter(plt.NullFormatter())\n",
    "\n",
    "    ax.set_ylabel('$p(x)$', fontsize = 12)\n",
    "\n",
    "plt.show()"
   ]
  }
 ],
 "metadata": {
  "kernelspec": {
   "display_name": "Python 3 (ipykernel)",
   "language": "python",
   "name": "python3"
  },
  "language_info": {
   "codemirror_mode": {
    "name": "ipython",
    "version": 3
   },
   "file_extension": ".py",
   "mimetype": "text/x-python",
   "name": "python",
   "nbconvert_exporter": "python",
   "pygments_lexer": "ipython3",
   "version": "3.9.6"
  }
 },
 "nbformat": 4,
 "nbformat_minor": 5
}
