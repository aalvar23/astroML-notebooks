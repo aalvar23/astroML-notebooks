{
 "cells": [
  {
   "cell_type": "markdown",
   "id": "aec24c18",
   "metadata": {},
   "source": [
    "# Correlation coefficients"
   ]
  },
  {
   "cell_type": "markdown",
   "id": "84959d7f",
   "metadata": {},
   "source": [
    "In chapter 3.5, we introduced the covariance of x and y and the correlation coefficient as measures of the dependence of the two variables on each other. In this section, we'll extend our discussion to the interpretation of the sample correlation coefficient.\n",
    "\n",
    "Given two data sets of equal size $N$, {$x_i$} and {$y_i$}, Pearson's sample correlation coefficient is\n",
    "\n",
    "$$r = \\frac{\\sum_{i=1}^{N}(x_i-\\bar{x})(y_i-\\bar{y})}{\\sqrt{\\sum_{i=1}^{N}(x_i-\\bar{x})^2}\\sqrt{\\sum_{i=1}^{N}(y_i-\\bar{y})^2}}$$\n",
    "\n",
    "with $ −1 \\leq r \\leq 1$. For uncorrelated variables, $r = 0$. If the pairs ($x_i$, $y_i$) are drawn from two uncorrelated univariate Gaussian distributions (i.e., the population correlation coefficient $\\rho = 0$), then the distribution of $r$ follows Student’s t distribution with $k = N − 2$ degrees of freedom and\n",
    "\n",
    "$$ t = r\\sqrt{\\frac{N-2}{1-r^2}} $$\n",
    "\n",
    "\n",
    "Given this known distribution, a measured value of $r$ can be transformed into the significance of the statement that {$x_i$} and {$y_i$} are correlated. For example, if $N=10$, the probability that a value of $r$ as large as 0.72 would arise by chance is 1% (the one-sided 99% confidence level for Student’s t distribution with $k = 8$ degrees of freedom is $t=2.896$). We shall return to such an analysis in §4.6 on hypothesis testing.\n",
    "\n",
    "When the sample is drawn from a bivariate Gaussian distribution with a nonvanishing population correlation coefficient $\\rho$, the Fisher transformation can be used to estimate the confidence interval for $\\rho$ from the measured value $r$. The distribution of $F$,\n",
    "\n",
    "$$ F(r)= \\frac{1}{2}\\ln \\bigg(\\frac{1+r}{1-r}\\bigg) $$\n",
    "\n",
    "approximately follows a Gaussian distribution with the mean $\\mu_F = F(\\rho)$ and a standard deviation $ \\sigma_F = (N-3)^{-1/2}$ \n",
    "\n",
    ". For the above sample with N = 10 and r = 0.72, this approximate approach ives a significance level of 0.8% when ρ = 0 (instead of the exact value of 1%).\n",
    "σF = (N − 3)\n",
    "\n",
    "Pearson’s correlation coefficient has two main deficiencies. First, the measurement errors for {xi} and {yi} are not used. As they become very large, the significance of any given value of r will decrease (if errors are much larger than the actual ranges of data values, the evidence for correlation vanishes). The case of nonnegligible errors is discussed in chapter 8. Second, Pearson’s correlation coefficient is sensitive to Gaussian outliers (recall the discussion in the previous section) and, more generally, the distribution of r does not follow Student’s t distribution if {xi} and {yi} are not drawn from a bivariate Gaussian distribution. In such cases, nonparametric correlation tests, discussed next, are a better option.\n",
    "\n",
    "$$ \\sum_{i=1}^N R_i = \\frac{N(N+1)}{2} $$\n",
    "\n",
    "$$ \\sum_{i=1}^N (R_i)^2 = \\frac{N(N+1)(2N+1)}{6} $$\n",
    "\n",
    "$$ r_S = \\frac{\\sum_{i=1}^N (R_i^x -\\overline{R^x})(R_i^y - \\overline{R^y})}{\\sqrt{\\sum_{i=1}^N (R_i^x) - \\overline{R^x})^2} \\sqrt{\\sum_{i=1}^N (R_i^y) - \\overline{R^y})^2 }} $$\n",
    "\n",
    "$$r_S = 1 - \\frac{6}{N(N^2-1)} \\sum_{i=1}^N (R_i^x - R_i^y)^2 $$\n",
    "\n",
    "$$\\tau = 2\\frac{N_c - N_d}{N(N-1)} $$\n",
    "\n",
    "$$ \\sigma_\\tau = \\bigg[\\frac{2(2N+5)}{9N(N-1)}\\bigg]^{1/2} $$\n",
    "\n",
    "$$ \\overline{\\tau} = \\frac{2}{\\pi}sin^{-1}(\\rho) $$"
   ]
  },
  {
   "cell_type": "markdown",
   "id": "b381bb3d",
   "metadata": {},
   "source": [
    "First we will define the our parameters for the distributions."
   ]
  },
  {
   "cell_type": "code",
   "execution_count": 3,
   "id": "76fd702c",
   "metadata": {},
   "outputs": [],
   "source": [
    "Nbootstraps = 5000\n",
    "N = 1000\n",
    "\n",
    "sigma1 = 2.0\n",
    "sigma2 = 1.0\n",
    "mu = (10.0, 10.0)\n",
    "alpha_deg = 45.0\n",
    "alpha = alpha_deg * np.pi / 180\n",
    "f = 0.01"
   ]
  },
  {
   "cell_type": "markdown",
   "id": "3d62770d",
   "metadata": {},
   "source": [
    "Next we will create our sample of the distribution with and without outliers. We get rho_true from pearson/spearman r and tau_true from Eq. 41 of arXiv:1011.2009"
   ]
  },
  {
   "cell_type": "code",
   "execution_count": 11,
   "id": "ffe6db9d",
   "metadata": {},
   "outputs": [],
   "source": [
    "np.random.seed(0)\n",
    "X = bivariate_normal(mu, sigma1, sigma2, alpha, N)\n",
    "\n",
    "X_out = X.copy()\n",
    "X_out[:int(f * N)] = bivariate_normal(mu, 2, 5,\n",
    "                                      45 * np.pi / 180., int(f * N))\n",
    "\n",
    "rho_true = 0.6\n",
    "tau_true = 2 / np.pi * np.arcsin(rho_true)"
   ]
  },
  {
   "cell_type": "markdown",
   "id": "1afd151a",
   "metadata": {},
   "source": [
    "Next we create a function to compute the statistics.  Since this takes a while, we'll use the \"pickle_results\" decorator to save the results of the computation to disk."
   ]
  },
  {
   "cell_type": "code",
   "execution_count": 20,
   "id": "b88d760e",
   "metadata": {},
   "outputs": [
    {
     "name": "stdout",
     "output_type": "stream",
     "text": [
      "@pickle_results: using precomputed results from 'fig_correlations_dump.pkl'\n"
     ]
    }
   ],
   "source": [
    "@pickle_results('fig_correlations_dump.pkl')\n",
    "def compute_results(N, Nbootstraps):\n",
    "    results = np.zeros((3, 2, Nbootstraps))\n",
    "\n",
    "    for k in range(Nbootstraps):\n",
    "        ind = np.random.randint(N, size=N)\n",
    "        for j, data in enumerate([X, X_out]):\n",
    "            x = data[ind, 0]\n",
    "            y = data[ind, 1]\n",
    "            for i, statistic in enumerate([stats.pearsonr,\n",
    "                                           stats.spearmanr,\n",
    "                                           stats.kendalltau]):\n",
    "                results[i, j, k] = statistic(x, y)[0]\n",
    "\n",
    "    return results\n",
    "\n",
    "results = compute_results(N, Nbootstraps)"
   ]
  },
  {
   "cell_type": "markdown",
   "id": "55fe21f8",
   "metadata": {},
   "source": [
    "Next, we will plot the results"
   ]
  },
  {
   "cell_type": "code",
   "execution_count": 35,
   "id": "1d3c04a6",
   "metadata": {},
   "outputs": [
    {
     "data": {
      "image/png": "[encoded data removed]",
      "text/plain": [
       "<Figure size 648x648 with 3 Axes>"
      ]
     },
     "metadata": {
      "needs_background": "light"
     },
     "output_type": "display_data"
    }
   ],
   "source": [
    "fig = plt.figure(figsize=(9, 9))\n",
    "fig.subplots_adjust(bottom=0.1, top=0.95, hspace=0.35)\n",
    "\n",
    "histargs = (dict(alpha=0.5, label='No Outliers'),\n",
    "            dict(alpha=0.8, label='%i%s Outliers' % (int(f * 100), pct)))\n",
    "\n",
    "distributions = ['Pearson-r', 'Spearman-r', r'Kendall-$\\tau$']\n",
    "xlabels = ['r_p', 'r_s', r'\\tau']\\\n",
    "\n",
    "for i in range(3):\n",
    "    ax = fig.add_subplot(311 + i)\n",
    "    for j in range(2):\n",
    "        ax.hist(results[i, j], 40, histtype='stepfilled', fc='gray',\n",
    "                density=True, **histargs[j])\n",
    "\n",
    "    if i == 0:\n",
    "        ax.legend(loc=2)\n",
    "\n",
    "    ylim = ax.get_ylim()\n",
    "    if i < 2:\n",
    "        ax.plot([rho_true, rho_true], ylim, '--k', lw=1)\n",
    "        ax.set_xlim(0.34, 0.701)\n",
    "    else:\n",
    "        ax.plot([tau_true, tau_true], ylim, '--k', lw=1)\n",
    "        ax.set_xlim(0.31, 0.48)\n",
    "    ax.set_ylim(ylim)\n",
    "\n",
    "    ax.text(0.98, 0.95, distributions[i], ha='right', va='top',\n",
    "            transform=ax.transAxes,fontsize = 10)\n",
    "\n",
    "    ax.set_xlabel('$%s$' % xlabels[i], fontsize = 12)\n",
    "    ax.set_ylabel('$N(%s)$' % xlabels[i],fontsize = 12)\n",
    "    ax.tick_params(axis='both', which='major', labelsize=10)\n",
    "\n",
    "plt.show()"
   ]
  },
  {
   "cell_type": "markdown",
   "id": "4869a46b",
   "metadata": {},
   "source": [
    "$$ H(y|x_0) = \\frac{\\int_{- \\infty}^{y} h(x_o,y\\prime)dy\\prime} {\\int_{- \\infty}^{\\infty} h(x_o,y\\prime)dy\\prime}$$\n",
    "\n",
    "$$ x = \\mu_x +\\eta_1 \\sigma_1 \\cos\\alpha - \\eta_2\\sigma_2 \\sin \\alpha $$\n",
    "\n",
    "$$ y = \\mu_y +\\eta_1 \\sigma_1 \\sin\\alpha - \\eta_2\\sigma_2 \\cos \\alpha $$"
   ]
  },
  {
   "cell_type": "markdown",
   "id": "b608c086",
   "metadata": {},
   "source": [
    "## Random Number Generation for arbitrary distributions"
   ]
  },
  {
   "cell_type": "markdown",
   "id": "30dafa6e",
   "metadata": {},
   "source": [
    "Often times in statistics, simulations of measurements are necessary to understand selection effects and resulting biases. These approaches are often called Monte Carlo simulations and the resulting mock samples can substitute for real measurements. \n",
    "\n",
    "Monte Carlo simulations require samples drawn from specified distribution functions -- the simplest case is the uniform distribution function. For example,`numpy.random.rand` defaults to drawing a random floating point number from a unfirom distribution over [0,1] (however, if more parameters need to be defined, we can use `numpy.random.uniform` as well). The `random` submodule of `NumPy` provides a myriad of useful functions that are worth looking into."
   ]
  },
  {
   "cell_type": "code",
   "execution_count": 2,
   "id": "6e948b32",
   "metadata": {},
   "outputs": [
    {
     "name": "stderr",
     "output_type": "stream",
     "text": [
      "/var/folders/0b/q0wjgd1j7_l833v81gbxgbzh0000gn/T/ipykernel_37832/1022624949.py:22: FutureWarning: arrays to stack must be passed as a \"sequence\" type such as list or tuple. Support for non-sequence iterables such as generators is deprecated as of NumPy 1.16 and will raise an error in the future.\n",
      "  x = np.hstack((d.rvs(int(f * Ndata)) for d, f in zip(dists, fracs)))\n"
     ]
    },
    {
     "name": "stdout",
     "output_type": "stream",
     "text": [
      "KS test: D = 0.0028; p = 1\n"
     ]
    },
    {
     "data": {
      "image/png": "[encoded data removed]",
      "text/plain": [
       "<Figure size 360x360 with 4 Axes>"
      ]
     },
     "metadata": {
      "needs_background": "light"
     },
     "output_type": "display_data"
    }
   ],
   "source": [
    "from __future__ import print_function\n",
    "import numpy as np\n",
    "from matplotlib import pyplot as plt\n",
    "from scipy import stats, interpolate\n",
    "from astropy.visualization import hist\n",
    "from astroML.density_estimation import EmpiricalDistribution\n",
    "\n",
    "if \"setup_text_plots\" not in globals():\n",
    "    from astroML.plotting import setup_text_plots\n",
    "setup_text_plots(fontsize=8, usetex=False)\n",
    "\n",
    "#------------------------------------------------------------\n",
    "# Create a distribution and clone it\n",
    "Ndata = 1000\n",
    "Nclone = 100000\n",
    "np.random.seed(0)\n",
    "\n",
    "# generate an 'observed' bimodal distribution with 10000 values\n",
    "dists = (stats.norm(-1.3, 0.5), stats.norm(1.3, 0.5))\n",
    "fracs = (0.6, 0.4)\n",
    "x = np.hstack((d.rvs(int(f * Ndata)) for d, f in zip(dists, fracs)))\n",
    "\n",
    "# We can clone the distribution easily with this function\n",
    "x_cloned = EmpiricalDistribution(x).rvs(Nclone)\n",
    "\n",
    "# compute the KS test to check if they're the same\n",
    "D, p = stats.ks_2samp(x, x_cloned)\n",
    "print(\"KS test: D = %.2g; p = %.2g\" % (D, p))\n",
    "\n",
    "#------------------------------------------------------------\n",
    "# For the sake of this example, we need to calculate some\n",
    "#  of the partial steps used by EmpiricalDistribution\n",
    "\n",
    "# create a cumulative distribution\n",
    "x.sort()\n",
    "Px_cuml = np.linspace(0, 1, Ndata)\n",
    "\n",
    "# set up an interpolation of the inverse cumulative distribution\n",
    "tck = interpolate.splrep(Px_cuml, x)\n",
    "\n",
    "# sample evenly along the cumulative distribution, and interpolate\n",
    "Px_cuml_sample = np.linspace(0, 1, 10 * Ndata)\n",
    "x_sample = interpolate.splev(Px_cuml_sample, tck)\n",
    "\n",
    "#------------------------------------------------------------\n",
    "# Plot the cloned distribution and the procedure for obtaining it\n",
    "fig = plt.figure(figsize=(5, 5))\n",
    "fig.subplots_adjust(hspace=0.3, left=0.1, right=0.95,\n",
    "                    bottom=0.08, top=0.92, wspace=0.3)\n",
    "\n",
    "indices = np.linspace(0, Ndata - 1, 20).astype(int)\n",
    "\n",
    "# plot a histogram of the input\n",
    "ax = fig.add_subplot(221)\n",
    "hist(x, bins='knuth', ax=ax,\n",
    "     histtype='stepfilled', ec='k', fc='#AAAAAA')\n",
    "ax.set_ylim(0, 300)\n",
    "ax.set_title('Input data distribution')\n",
    "ax.set_xlabel('$x$')\n",
    "ax.set_ylabel('$N(x)$')\n",
    "\n",
    "# plot the cumulative distribution\n",
    "ax = fig.add_subplot(222)\n",
    "ax.scatter(x[indices], Px_cuml[indices], lw=0, c='k', s=9)\n",
    "ax.plot(x, Px_cuml, '-k')\n",
    "ax.set_xlim(-3, 3)\n",
    "ax.set_ylim(-0.05, 1.05)\n",
    "ax.set_title('Cumulative Distribution')\n",
    "ax.set_xlabel('$x$')\n",
    "ax.set_ylabel('$p(<x)$')\n",
    "\n",
    "# plot the inverse cumulative distribution and spline fit\n",
    "ax = fig.add_subplot(223)\n",
    "ax.scatter(Px_cuml[indices], x[indices], lw=0, c='k', s=9)\n",
    "ax.plot(Px_cuml_sample, x_sample, '-k')\n",
    "ax.arrow(0.7, -3, 0, 3.5, width=0.015, fc='gray', ec='gray',\n",
    "         head_width=0.05, head_length=0.4)\n",
    "ax.arrow(0.7, 0.9, -0.69, 0, width=0.1, fc='gray', ec='gray',\n",
    "         head_width=0.3, head_length=0.06)\n",
    "ax.set_xlim(-0.05, 1.05)\n",
    "ax.set_ylim(-3, 3)\n",
    "ax.set_title('Inverse Cuml. Distribution')\n",
    "ax.set_xlabel('$p(<x)$')\n",
    "ax.set_ylabel('$x$')\n",
    "\n",
    "# plot the resulting cloned distribution\n",
    "ax = fig.add_subplot(224)\n",
    "hist(x, bins='knuth', ax=ax,\n",
    "     histtype='stepfilled', density=True,\n",
    "     ec='#AAAAAA', fc='#DDDDDD',\n",
    "     label='input data')\n",
    "hist(x_cloned, bins='knuth', ax=ax,\n",
    "     histtype='step', density=True,\n",
    "     color='k', label='cloned data')\n",
    "ax.set_title('Cloned Distribution')\n",
    "ax.set_xlabel('$x$')\n",
    "ax.set_ylabel('$p(x)dx$')\n",
    "ax.text(0.74, 0.95, \"KS test:\\nD = %.2f\\np = %.2f\" % (D, p),\n",
    "        ha='left', va='top', transform=ax.transAxes)\n",
    "\n",
    "plt.show()"
   ]
  },
  {
   "cell_type": "code",
   "execution_count": null,
   "id": "81b9640e",
   "metadata": {},
   "outputs": [],
   "source": []
  }
 ],
 "metadata": {
  "kernelspec": {
   "display_name": "Python 3 (ipykernel)",
   "language": "python",
   "name": "python3"
  },
  "language_info": {
   "codemirror_mode": {
    "name": "ipython",
    "version": 3
   },
   "file_extension": ".py",
   "mimetype": "text/x-python",
   "name": "python",
   "nbconvert_exporter": "python",
   "pygments_lexer": "ipython3",
   "version": "3.9.6"
  }
 },
 "nbformat": 4,
 "nbformat_minor": 5
}
