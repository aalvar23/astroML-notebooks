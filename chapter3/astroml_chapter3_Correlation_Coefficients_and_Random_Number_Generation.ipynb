{
 "cells": [
  {
   "cell_type": "markdown",
   "id": "aec24c18",
   "metadata": {},
   "source": [
    "# Correlation coefficients"
   ]
  },
  {
   "cell_type": "code",
   "execution_count": 24,
   "id": "3d349ee6",
   "metadata": {},
   "outputs": [],
   "source": [
    "import numpy as np\n",
    "from scipy import stats\n",
    "from matplotlib import pyplot as plt\n",
    "\n",
    "from astroML.stats.random import bivariate_normal\n",
    "from astroML.utils.decorators import pickle_results\n",
    "\n",
    "# percent sign must be escaped if usetex=True\n",
    "import matplotlib\n",
    "if matplotlib.rcParams.get('text.usetex'):\n",
    "    pct = '\\%'\n",
    "else:\n",
    "    pct = '%'\n",
    "    \n",
    "if \"setup_text_plots\" not in globals():\n",
    "    from astroML.plotting import setup_text_plots\n",
    "setup_text_plots(fontsize=8, usetex=False)"
   ]
  },
  {
   "cell_type": "markdown",
   "id": "84959d7f",
   "metadata": {},
   "source": [
    "Given two data sets of equal size $N$, ${x_i}$ and ${y_i}$, Pearson's sample correlation coefficient is\n",
    "\n",
    "$$r = \\frac{\\sum_{i=1}^{N}(x_i-\\bar{x})(y_i-\\bar{y})}{\\sqrt{\\sum_{i=1}^{N}(x_i-\\bar{x})^2}\\sqrt{\\sum_{i=1}^{N}(y_i-\\bar{y})^2}}$$\n",
    "\n",
    "where $-1 \\leq r \\leq 1$. If the variables are uncorrelated, $r=0$."
   ]
  },
  {
   "cell_type": "markdown",
   "id": "b381bb3d",
   "metadata": {},
   "source": [
    "First we will define the our parameters for the distributions."
   ]
  },
  {
   "cell_type": "code",
   "execution_count": 3,
   "id": "76fd702c",
   "metadata": {},
   "outputs": [],
   "source": [
    "Nbootstraps = 5000\n",
    "N = 1000\n",
    "\n",
    "sigma1 = 2.0\n",
    "sigma2 = 1.0\n",
    "mu = (10.0, 10.0)\n",
    "alpha_deg = 45.0\n",
    "alpha = alpha_deg * np.pi / 180\n",
    "f = 0.01"
   ]
  },
  {
   "cell_type": "markdown",
   "id": "3d62770d",
   "metadata": {},
   "source": [
    "Next we will create our sample of the distribution with and without outliers. We get rho_true from pearson/spearman r and tau_true from Eq. 41 of arXiv:1011.2009"
   ]
  },
  {
   "cell_type": "code",
   "execution_count": 11,
   "id": "ffe6db9d",
   "metadata": {},
   "outputs": [],
   "source": [
    "np.random.seed(0)\n",
    "X = bivariate_normal(mu, sigma1, sigma2, alpha, N)\n",
    "\n",
    "X_out = X.copy()\n",
    "X_out[:int(f * N)] = bivariate_normal(mu, 2, 5,\n",
    "                                      45 * np.pi / 180., int(f * N))\n",
    "\n",
    "rho_true = 0.6\n",
    "tau_true = 2 / np.pi * np.arcsin(rho_true)"
   ]
  },
  {
   "cell_type": "markdown",
   "id": "1afd151a",
   "metadata": {},
   "source": [
    "Next we create a function to compute the statistics.  Since this takes a while, we'll use the \"pickle_results\" decorator to save the results of the computation to disk."
   ]
  },
  {
   "cell_type": "code",
   "execution_count": 20,
   "id": "b88d760e",
   "metadata": {},
   "outputs": [
    {
     "name": "stdout",
     "output_type": "stream",
     "text": [
      "@pickle_results: using precomputed results from 'fig_correlations_dump.pkl'\n"
     ]
    }
   ],
   "source": [
    "@pickle_results('fig_correlations_dump.pkl')\n",
    "def compute_results(N, Nbootstraps):\n",
    "    results = np.zeros((3, 2, Nbootstraps))\n",
    "\n",
    "    for k in range(Nbootstraps):\n",
    "        ind = np.random.randint(N, size=N)\n",
    "        for j, data in enumerate([X, X_out]):\n",
    "            x = data[ind, 0]\n",
    "            y = data[ind, 1]\n",
    "            for i, statistic in enumerate([stats.pearsonr,\n",
    "                                           stats.spearmanr,\n",
    "                                           stats.kendalltau]):\n",
    "                results[i, j, k] = statistic(x, y)[0]\n",
    "\n",
    "    return results\n",
    "\n",
    "results = compute_results(N, Nbootstraps)"
   ]
  },
  {
   "cell_type": "markdown",
   "id": "55fe21f8",
   "metadata": {},
   "source": [
    "Next, we will plot the results"
   ]
  },
  {
   "cell_type": "code",
   "execution_count": 35,
   "id": "1d3c04a6",
   "metadata": {},
   "outputs": [
    {
     "data": {
      "image/png": "[encoded data removed]",
      "text/plain": [
       "<Figure size 648x648 with 3 Axes>"
      ]
     },
     "metadata": {
      "needs_background": "light"
     },
     "output_type": "display_data"
    }
   ],
   "source": [
    "fig = plt.figure(figsize=(9, 9))\n",
    "fig.subplots_adjust(bottom=0.1, top=0.95, hspace=0.35)\n",
    "\n",
    "histargs = (dict(alpha=0.5, label='No Outliers'),\n",
    "            dict(alpha=0.8, label='%i%s Outliers' % (int(f * 100), pct)))\n",
    "\n",
    "distributions = ['Pearson-r', 'Spearman-r', r'Kendall-$\\tau$']\n",
    "xlabels = ['r_p', 'r_s', r'\\tau']\\\n",
    "\n",
    "for i in range(3):\n",
    "    ax = fig.add_subplot(311 + i)\n",
    "    for j in range(2):\n",
    "        ax.hist(results[i, j], 40, histtype='stepfilled', fc='gray',\n",
    "                density=True, **histargs[j])\n",
    "\n",
    "    if i == 0:\n",
    "        ax.legend(loc=2)\n",
    "\n",
    "    ylim = ax.get_ylim()\n",
    "    if i < 2:\n",
    "        ax.plot([rho_true, rho_true], ylim, '--k', lw=1)\n",
    "        ax.set_xlim(0.34, 0.701)\n",
    "    else:\n",
    "        ax.plot([tau_true, tau_true], ylim, '--k', lw=1)\n",
    "        ax.set_xlim(0.31, 0.48)\n",
    "    ax.set_ylim(ylim)\n",
    "\n",
    "    ax.text(0.98, 0.95, distributions[i], ha='right', va='top',\n",
    "            transform=ax.transAxes,fontsize = 10)\n",
    "\n",
    "    ax.set_xlabel('$%s$' % xlabels[i], fontsize = 12)\n",
    "    ax.set_ylabel('$N(%s)$' % xlabels[i],fontsize = 12)\n",
    "    ax.tick_params(axis='both', which='major', labelsize=10)\n",
    "\n",
    "plt.show()"
   ]
  },
  {
   "cell_type": "code",
   "execution_count": null,
   "id": "0362a199",
   "metadata": {},
   "outputs": [],
   "source": []
  }
 ],
 "metadata": {
  "kernelspec": {
   "display_name": "Python 3 (ipykernel)",
   "language": "python",
   "name": "python3"
  },
  "language_info": {
   "codemirror_mode": {
    "name": "ipython",
    "version": 3
   },
   "file_extension": ".py",
   "mimetype": "text/x-python",
   "name": "python",
   "nbconvert_exporter": "python",
   "pygments_lexer": "ipython3",
   "version": "3.9.6"
  }
 },
 "nbformat": 4,
 "nbformat_minor": 5
}
